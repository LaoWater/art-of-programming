{
  "nbformat": 4,
  "nbformat_minor": 5,
  "metadata": {
    "kernelspec": {
      "display_name": "Python 3",
      "language": "python",
      "name": "python3"
    },
    "language_info": {
      "name": "python",
      "version": "3.x",
      "mimetype": "text/x-python",
      "codemirror_mode": {
        "name": "ipython",
        "version": 3
      },
      "pygments_lexer": "ipython3",
      "nbconvert_exporter": "python",
      "file_extension": ".py"
    },
    "colab": {
      "provenance": []
    }
  },
  "cells": [
    {
      "cell_type": "markdown",
      "metadata": {},
      "source": "# Sesiunea 10 – Algoritmi Avansați și Optimizare\n_Notebook de exerciții (fără soluții)._"
    },
    {
      "cell_type": "markdown",
      "metadata": {},
      "source": "## Exercițiul 1 — Sortează 100.000 de numere cu Merge Sort și măsoară timpul\n- Generează o listă cu **100.000** de numere aleatoare.\n- Implementează **Merge Sort** (divide et impera).\n- Măsoară timpul de execuție folosind `time.time()` și afișează-l.\n- Verifică că lista rezultată este sortată corect.\n- Notează complexitatea teoretică: `O(n log n)` și discută diferențele observate față de timp."
    },
    {
      "cell_type": "code",
      "metadata": {},
      "execution_count": null,
      "outputs": [],
      "source": ""
    },
    {
      "cell_type": "markdown",
      "metadata": {},
      "source": "## Exercițiul 2 — Recursivitate & Memoizare: compară factorial cu și fără memo\n- Implementează `factorial(n)` recursiv **fără** memoizare.\n- Implementează o variantă **cu memoizare** (cache).\n- Cronometrează apelurile pentru mai multe valori (ex.: `n = 2000, 4000, 6000` sau o plajă sigură pentru mediul tău).\n- Compară timpii și discută impactul memoizării asupra performanței și consumului de memorie.\n- (Opțional) Repetă experimentul pentru altă funcție recursivă costisitoare (ex.: Fibonacci)."
    },
    {
      "cell_type": "code",
      "metadata": {},
      "execution_count": null,
      "outputs": [],
      "source": ""
    },
    {
      "cell_type": "markdown",
      "metadata": {},
      "source": "## Exercițiul 3 — Greedy: Interval Scheduling (maximizarea participărilor)\n- Primești o listă de intervale `[(start, end), ...]` care reprezintă evenimente într-o zi.\n- Alege un **subansamblu maxim** de intervale **ne-suprapuse** pentru a maximiza numărul de participări.\n- Strategie clasică greedy: **sortează după `end` crescător** și selectează iterativ.\n- Afișează atât numărul de evenimente selectate, cât și lista intervalelor alese."
    },
    {
      "cell_type": "code",
      "metadata": {},
      "execution_count": null,
      "outputs": [],
      "source": ""
    },
    {
      "cell_type": "markdown",
      "metadata": {},
      "source": "## Exercițiul 4 — Sortează un fișier CSV cu Merge Sort\n- Încarcă un fișier CSV care conține o coloană numerică (poți genera un fișier de test).\n- Extrage coloana numerică într-o listă și sorteaz-o cu **Merge Sort** implementat de tine.\n- Scrie rezultatul într-un nou fișier CSV și validează ordinea.\n- Cronometrează timpii de citire, sortare și scriere."
    },
    {
      "cell_type": "code",
      "metadata": {},
      "execution_count": null,
      "outputs": [],
      "source": ""
    },
    {
      "cell_type": "markdown",
      "metadata": {},
      "source": "## Exercițiul 5 — Backtracking: permutările unui cuvânt\n- Primește un cuvânt (ex.: `\"level\"`).\n- Generează **toate permutările** sale folosind **backtracking**.\n- Elimină duplicatele atunci când apar litere repetate.\n- Afișează numărul total de permutări unice și câteva exemple."
    },
    {
      "cell_type": "code",
      "metadata": {},
      "execution_count": null,
      "outputs": [],
      "source": ""
    },
    {
      "cell_type": "markdown",
      "metadata": {},
      "source": "## Exercițiul 6 — Greedy: planifică activități într-un buget de timp\n- Ai activități cu durate `d_i` și o limită totală de timp `T` într-o zi.\n- Folosește o strategie greedy (ex.: **SJF — Shortest Job First**) pentru a **maximiza numărul** de activități finalizate în `T`.\n- Afișează setul selectat, timpul total folosit și numărul de activități realizate."
    },
    {
      "cell_type": "code",
      "metadata": {},
      "execution_count": null,
      "outputs": [],
      "source": ""
    },
    {
      "cell_type": "markdown",
      "metadata": {},
      "source": "## Exercițiul 7 — Backtracking: problema celor 8 regine (afișare ASCII)\n- Plasează **8 regine** pe o tablă de șah 8×8 astfel încât **nicio** pereche să nu se atace.\n- Găsește **toate soluțiile** folosind backtracking.\n- Afișează cel puțin o soluție în **ASCII**, de exemplu cu `Q` pentru regină și `.` pentru gol.\n- (Opțional) Permite parametrizarea pentru `n` regine."
    },
    {
      "cell_type": "code",
      "metadata": {},
      "execution_count": null,
      "outputs": [],
      "source": ""
    }
  ]
}
