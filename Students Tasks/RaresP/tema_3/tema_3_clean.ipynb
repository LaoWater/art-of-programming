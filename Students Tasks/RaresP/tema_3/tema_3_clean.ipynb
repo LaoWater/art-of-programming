{
 "cells": [
  {
   "cell_type": "markdown",
   "id": "6e8f3c38",
   "metadata": {},
   "source": [
    "# 📈 Tema pentru acasă avansati\n",
    "\n",
    "##### Exercitiu 1 - Creează o buclă care cere un PIN de 4 cifre până e corect. - La 3 încercări greșite - timeout 15-> apoi 60 (a doua greșeală) -> apoi lockout complet."
   ]
  },
  {
   "cell_type": "code",
   "id": "91a07060",
   "metadata": {},
   "source": [
    "import time\n",
    "from IPython.display import clear_output\n",
    "from tqdm import trange\n",
    "\n",
    "PIN_CORRECT = 1234\n",
    "\n",
    "tries_left = 3\n",
    "sleep_time = 0\n",
    "pin_ok = False\n",
    "RUN = True # CHANGE TO TRUE TO RUN\n",
    "\n",
    "\n",
    "def countdown(sec, msg=\"Try again in\"):\n",
    "    frag = 10\n",
    "    for s in trange(sec * frag, leave=False, desc=\"Waiting\",\n",
    "                    bar_format=\"Waiting:|{bar}| {n:.1f}/{total}s...\",\n",
    "                    unit='s',\n",
    "                    unit_scale=0.1):\n",
    "        # print(f\"\\r{msg} {s / frag}s...\", end=\"\", flush=True)\n",
    "        time.sleep(1 / frag)\n",
    "    # print(\"\\r\" + \" \" * 40 + \"\\r\", end=\"\")  # clear line\n",
    "\n",
    "\n",
    "def loading_bar():\n",
    "    print()\n",
    "\n",
    "if RUN == True:\n",
    "    while not pin_ok:\n",
    "        print(\"Introduce PIN in input field\")\n",
    "        cand_pin = input(\"PIN: \")\n",
    "\n",
    "        while not cand_pin.isdigit():\n",
    "            print(\"We only accept digits (0123456789)\")\n",
    "            cand_pin = input(\"PIN (0123456789): \")\n",
    "\n",
    "        clear_output(wait=True)  # clears this cell’s output\n",
    "\n",
    "        cand_pin = int(cand_pin)\n",
    "\n",
    "        if cand_pin == PIN_CORRECT:\n",
    "            pin_ok = True\n",
    "            break\n",
    "\n",
    "        if tries_left == 1:\n",
    "            print(\"Exceeded retries attempts. Account was locked down (Contact support for help unlocking)\")\n",
    "            break\n",
    "\n",
    "        wait = 15 if tries_left == 3 else 60\n",
    "        countdown(wait)\n",
    "        tries_left -= 1\n",
    "else:\n",
    "    print(\"skipped\")\n",
    "\n",
    "if pin_ok:\n",
    "    print(\"Access Granted\")\n",
    "else:\n",
    "    print(\"Access Denied\")"
   ],
   "outputs": [],
   "execution_count": null
  },
  {
   "cell_type": "markdown",
   "id": "713477ec",
   "metadata": {},
   "source": [
    "##### Exercitiu 2 - Desenează diferite forme cu “*” (user inputs option: circle, triangle, hexagon, etc)"
   ]
  },
  {
   "cell_type": "code",
   "id": "3748d515",
   "metadata": {},
   "source": [
    "from tema3 import *"
   ],
   "outputs": [],
   "execution_count": null
  },
  {
   "cell_type": "code",
   "id": "f16c01c1",
   "metadata": {},
   "source": [
    "draw_square(5)"
   ],
   "outputs": [],
   "execution_count": null
  },
  {
   "cell_type": "code",
   "id": "ffcdc8d6",
   "metadata": {},
   "source": [
    "draw_right_triangle(5)"
   ],
   "outputs": [],
   "execution_count": null
  },
  {
   "cell_type": "code",
   "id": "d8d2deb1",
   "metadata": {},
   "source": [
    "draw_inverted_pyramid(5)"
   ],
   "outputs": [],
   "execution_count": null
  },
  {
   "cell_type": "code",
   "id": "b1ad5bd4",
   "metadata": {},
   "source": [
    "draw_rhombus(5)"
   ],
   "outputs": [],
   "execution_count": null
  },
  {
   "cell_type": "code",
   "id": "0455904e",
   "metadata": {},
   "source": [
    "draw_circle(17, fill=True)"
   ],
   "outputs": [],
   "execution_count": null
  },
  {
   "cell_type": "code",
   "id": "a94141b1",
   "metadata": {},
   "source": [
    "draw_circle_shape(17, shape=100, fill=True)"
   ],
   "outputs": [],
   "execution_count": null
  },
  {
   "cell_type": "code",
   "id": "cffa69e1",
   "metadata": {},
   "source": [
    "draw_circle_shape(19, shape=5, fill=True, rot_deg=90) # pentagon"
   ],
   "outputs": [],
   "execution_count": null
  },
  {
   "cell_type": "code",
   "id": "5f90bdc1",
   "metadata": {},
   "source": [
    "draw_circle_shape(17, shape=6, fill=True, rot_deg=90) # hexagon"
   ],
   "outputs": [],
   "execution_count": null
  },
  {
   "cell_type": "code",
   "id": "44a604af",
   "metadata": {},
   "source": [
    "draw_plot(3, 0, \"fill\") # triangle"
   ],
   "outputs": [],
   "execution_count": null
  },
  {
   "cell_type": "code",
   "id": "c75a9c49",
   "metadata": {},
   "source": [
    "draw_plot(4, 45, \"fill\") # square"
   ],
   "outputs": [],
   "execution_count": null
  },
  {
   "cell_type": "code",
   "id": "ff59f5c8",
   "metadata": {},
   "source": [
    "draw_plot(5, 90, \"fill\") # pentagon"
   ],
   "outputs": [],
   "execution_count": null
  },
  {
   "cell_type": "code",
   "id": "349dd873",
   "metadata": {},
   "source": [
    "draw_plot(6, 0, \"fill\") # hexagon"
   ],
   "outputs": [],
   "execution_count": null
  },
  {
   "cell_type": "code",
   "id": "e6c8a009",
   "metadata": {},
   "source": [
    "draw_plot(8, 90, \"fill\") # octagon"
   ],
   "outputs": [],
   "execution_count": null
  },
  {
   "cell_type": "code",
   "id": "cf51af91",
   "metadata": {},
   "source": [
    "draw_plot(100, 90, \"fill\") # circle-ish"
   ],
   "outputs": [],
   "execution_count": null
  },
  {
   "cell_type": "code",
   "id": "f481fb0a",
   "metadata": {},
   "source": [
    "run = True # CHANGE TO TRUE TO RUN ANIMATION\n",
    "if run == True:\n",
    "    draw_plot_rotating(5, \"line\", 2, 360)"
   ],
   "outputs": [],
   "execution_count": null
  },
  {
   "cell_type": "markdown",
   "id": "131477d1",
   "metadata": {},
   "source": [
    "##### Exercitiu 3 - Scrie o buclă care adună toate numerele pare între 1 și 10.000 (O(n) cât mai mic cu explicații)"
   ]
  },
  {
   "cell_type": "code",
   "id": "6c9e3d9c",
   "metadata": {},
   "source": [
    "import math\n",
    "\n",
    "def calc_sum_divisible(n: int, start=1, step=1) -> int:\n",
    "    # O(1) complexity\n",
    "    if step <= 0:\n",
    "        raise ValueError(\"step must be > 0\")\n",
    "    if start > n:\n",
    "        return 0\n",
    "    \n",
    "    count = math.floor((n - start) / step + 1)\n",
    "    last  = start + step * (count - 1)\n",
    "\n",
    "    s2 = count * (start + last)\n",
    "\n",
    "    return s2 // 2\n",
    "\n",
    "terms = 10000\n",
    "sum_even = 0\n",
    "\n",
    "# loop\n",
    "# iterate by 2 to only get evens O(n), n being terms // 2\n",
    "for i in range(2, terms + 1, 2):\n",
    "    sum_even += i\n",
    "print(\"iterate:\".ljust(9), sum_even)\n",
    "\n",
    "\n",
    "# quick math\n",
    "# O(1) - math making it one step\n",
    "for _ in range(1):\n",
    "    n = 10000 // 2 # evens count\n",
    "    sum_even = (2 * n * (n + 1)) // 2 # 2S = (n + 1) * step * n\n",
    "    print(\"math:\".ljust(9), sum_even)\n",
    "\n",
    "\n",
    "# proper function\n",
    "for _ in range(1):\n",
    "    print(\"function:\", calc_sum_divisible(terms, 2, 2)) # evens\n",
    "# print(calc_sum_divisible(terms, 1, 2)) # odds"
   ],
   "outputs": [],
   "execution_count": null
  },
  {
   "cell_type": "markdown",
   "id": "b63e9c4c",
   "metadata": {},
   "source": [
    "### math stuff (2 steppers) create a rectangle when reversed and put on top of each other\n",
    "### thinking of 2 right triangles forming a rect, 2x area of triangles and exact lateral, height + 1, ref graph\n",
    "```py\n",
    "n = n // step\n",
    "S  =    10    +     8    +     6    +     4    +     2    +     0       \n",
    "S  = 2(n - 0) + 2(n - 1) + 2(n - 2) + 2(n - 3) + 2(n - 4) + 2(n - 5)\n",
    "\n",
    "S  =     0    +     2    +     4    +     6    +     8    +    10\n",
    "S  = 2(n - 5) + 2(n - 4) + 2(n - 3) + 2(n - 2) + 2(n - 1) + 2(n - 0)\n",
    "\n",
    "2S =    10    +    10    +    10    +    10    +    10    +    10\n",
    "\n",
    "2S = 2n * (n + 1)\n",
    "2S = step * n * (n + 1)\n",
    "\n",
    "(step * n) * (count)\n",
    "```"
   ]
  },
  {
   "cell_type": "code",
   "id": "ff3ed09c",
   "metadata": {},
   "source": [
    "import matplotlib.pyplot as plt\n",
    "import numpy as np\n",
    "\n",
    "plt.style.use('dark_background')\n",
    "\n",
    "# Set the number of terms\n",
    "n = 10\n",
    "\n",
    "# Create sequences for the two steppers\n",
    "forward = np.arange(1, n + 1)  # 1, 2, ..., n\n",
    "backward = np.arange(n, 0, -1)  # n, n-1, ..., 1\n",
    "\n",
    "# Create figure and axis\n",
    "plt.figure(figsize=(10, 6))\n",
    "\n",
    "# Plot the forward stepper (1, 2, ..., n) as a histogram\n",
    "plt.step(range(n), forward, where='post', label='Forward (1 to n)', color='blue', linewidth=2)\n",
    "\n",
    "# Plot the backward stepper (n, n-1, ..., 1) stacked on top\n",
    "stacked = forward + backward  # Element-wise sum, constant at n + 1\n",
    "plt.step(range(n), stacked, where='post', label='Backward (n to 1) stacked', color='red', linewidth=2)\n",
    "\n",
    "# Plot the outlines of the two triangles\n",
    "# Triangle 1: (0,0) to (n,0) to (n,n) back to (0,0)\n",
    "plt.plot([0, n, n, 0], [0, 0, n, 0], 'b--', label='Triangle 1 outline', linewidth=1.5)\n",
    "\n",
    "# Triangle 2: (0,n) to (n,n) to (n,n+1) to (0,n+1)\n",
    "plt.plot([0, n, n, 0], [n, n, n + 1, n + 1], 'r--', label='Triangle 2 outline', linewidth=1.5)\n",
    "\n",
    "# Highlight the rectangular area formed by the triangles\n",
    "plt.fill([0, n, n, 0], [0, 0, n + 1, n + 1], 'gray', alpha=0.2, label='Rectangle (n × (n+1))')\n",
    "\n",
    "# Customize the plot\n",
    "plt.title(f'Visualization of Sum of First {n} Numbers\\nTwo Steppers and Triangle Outlines Forming a Rectangle')\n",
    "plt.xlabel('Index')\n",
    "plt.ylabel('Value')\n",
    "plt.legend()\n",
    "plt.grid(True, alpha=0.3)\n",
    "\n",
    "# Set axis limits\n",
    "plt.xlim(-0.5, n)\n",
    "plt.ylim(0, n + 2)\n",
    "\n",
    "# Show the plot\n",
    "plt.show()"
   ],
   "outputs": [],
   "execution_count": null
  },
  {
   "cell_type": "markdown",
   "id": "a4efb7c0",
   "metadata": {},
   "source": [
    "You have a stepping shape, for ex. integers in order: 1, 2, 3, 4, 5, 6, 7, 8, 9, 10.  \n",
    "By taking another identical stepper shape and placing it on top of the other upside down, we can create a rectangle  \n",
    "Now having a rectangle we can calculate its area as height * width, and we know that we have 2 * steppers shapes.  \n",
    "So two steppers shapes is equal to square area divided by two or: `S2 = (h * w) / 2`  \n",
    "We can use this to get the sum of an ordered, symetrical stepper or any arithmetic progression.  \n"
   ]
  }
 ],
 "metadata": {
  "kernelspec": {
   "display_name": "Python 3",
   "language": "python",
   "name": "python3"
  },
  "language_info": {
   "codemirror_mode": {
    "name": "ipython",
    "version": 3
   },
   "file_extension": ".py",
   "mimetype": "text/x-python",
   "name": "python",
   "nbconvert_exporter": "python",
   "pygments_lexer": "ipython3",
   "version": "3.13.7"
  }
 },
 "nbformat": 4,
 "nbformat_minor": 5
}
