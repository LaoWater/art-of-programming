{
 "cells": [
  {
   "cell_type": "markdown",
   "id": "1f37d5a6",
   "metadata": {},
   "source": [
    "# Recapitulare – Primele 3 sesiuni Python\n",
    "\n",
    "În această lecție recapitulăm ce am învățat până acum:\n",
    "\n",
    "1. **Introducere în Python**\n",
    "2. **Variabile și structuri condiționale (if-else)**\n",
    "3. **Bucle (for și while)**\n"
   ]
  },
  {
   "cell_type": "code",
   "id": "dc88f128",
   "metadata": {},
   "source": [
    "# Variabile de diferite tipuri\n",
    "foame = True                 # boolean (adevărat/fals)\n",
    "nume = f\" Mihai\"               # string (șir de caractere)\n",
    "varsta = 28                  # int (număr întreg)\n",
    "pret_pizza = 24.99           # float (număr zecimal)\n",
    "\n",
    "# Dupa lectia de Astazi (Colectii)\n",
    "# ingrediente = [\"brânză\", \"roșii\", \"masline\"]   # listă\n",
    "# calorii = {\"pizza\": 300, \"salata\": 150}        # dicționar (cheie:valoare)\n",
    "\n",
    "# Folosim variabilele\n",
    "if foame and varsta > 35:\n",
    "    print(\"Uite o pizza pentru\", nume, \"!\")\n",
    "    print(\"Ai\", varsta, \"ani și pizza costă\", pret_pizza, \"lei.\")\n",
    "    # print(\"Ingrediente disponibile:\", ingrediente)\n",
    "    # print(\"Calorii pentru pizza:\", calorii[\"pizza\"])\n",
    "\n"
   ],
   "outputs": [],
   "execution_count": null
  },
  {
   "cell_type": "markdown",
   "id": "0cdf93cd",
   "metadata": {},
   "source": [
    "## Variabile și if-else\n",
    "\n",
    "- Am creat o variabilă `foame` și i-am dat valoarea `True` (adevărat).\n",
    "- Instrucțiunea `if` verifică dacă `foame` este adevărată.\n",
    "- Dacă da, se execută codul din interior și se afișează textul.\n"
   ]
  },
  {
   "cell_type": "code",
   "id": "91449928",
   "metadata": {
    "ExecuteTime": {
     "end_time": "2025-09-08T16:56:08.097235Z",
     "start_time": "2025-09-08T16:56:08.093978Z"
    }
   },
   "source": [
    "for element in range(1, 6):\n",
    "    print(\"Uite o Pizza din Bucla! - Numar: \", element)"
   ],
   "outputs": [
    {
     "name": "stdout",
     "output_type": "stream",
     "text": [
      "Uite o Pizza din Bucla! - Numar:  1\n",
      "Uite o Pizza din Bucla! - Numar:  2\n",
      "Uite o Pizza din Bucla! - Numar:  3\n",
      "Uite o Pizza din Bucla! - Numar:  4\n",
      "Uite o Pizza din Bucla! - Numar:  5\n"
     ]
    }
   ],
   "execution_count": 16
  },
  {
   "cell_type": "markdown",
   "id": "bae2086e",
   "metadata": {},
   "source": [
    "## Bucla `for`\n",
    "\n",
    "- `range(1,6)` generează numerele: 1, 2, 3, 4, 5.\n",
    "- `range(1,6,2)` generează numerele: 1, 3, 5.  (cu pas)\n",
    "- Pentru fiecare valoare, se execută instrucțiunea `print`.\n",
    "- Astfel, mesajul apare de 3 ori.\n"
   ]
  },
  {
   "cell_type": "code",
   "id": "169d2527",
   "metadata": {
    "ExecuteTime": {
     "end_time": "2025-09-08T16:29:25.206659Z",
     "start_time": "2025-09-08T16:29:25.202579Z"
    }
   },
   "source": [
    "foame = True\n",
    "counter = 0\n",
    "\n",
    "while (foame and counter < 100):\n",
    "    print(f\"Uite Pizza cu numarul {counter} din Bucla While\")\n",
    "counter = counter + 1"
   ],
   "outputs": [
    {
     "name": "stdout",
     "output_type": "stream",
     "text": [
      "Uite Pizza cu numarul 0 din Bucla While\n",
      "Uite Pizza cu numarul 1 din Bucla While\n",
      "Uite Pizza cu numarul 2 din Bucla While\n",
      "Uite Pizza cu numarul 3 din Bucla While\n",
      "Uite Pizza cu numarul 4 din Bucla While\n",
      "Uite Pizza cu numarul 5 din Bucla While\n",
      "Uite Pizza cu numarul 6 din Bucla While\n",
      "Uite Pizza cu numarul 7 din Bucla While\n",
      "Uite Pizza cu numarul 8 din Bucla While\n",
      "Uite Pizza cu numarul 9 din Bucla While\n",
      "Uite Pizza cu numarul 10 din Bucla While\n",
      "Uite Pizza cu numarul 11 din Bucla While\n",
      "Uite Pizza cu numarul 12 din Bucla While\n",
      "Uite Pizza cu numarul 13 din Bucla While\n",
      "Uite Pizza cu numarul 14 din Bucla While\n",
      "Uite Pizza cu numarul 15 din Bucla While\n",
      "Uite Pizza cu numarul 16 din Bucla While\n",
      "Uite Pizza cu numarul 17 din Bucla While\n",
      "Uite Pizza cu numarul 18 din Bucla While\n",
      "Uite Pizza cu numarul 19 din Bucla While\n",
      "Uite Pizza cu numarul 20 din Bucla While\n",
      "Uite Pizza cu numarul 21 din Bucla While\n",
      "Uite Pizza cu numarul 22 din Bucla While\n",
      "Uite Pizza cu numarul 23 din Bucla While\n",
      "Uite Pizza cu numarul 24 din Bucla While\n",
      "Uite Pizza cu numarul 25 din Bucla While\n",
      "Uite Pizza cu numarul 26 din Bucla While\n",
      "Uite Pizza cu numarul 27 din Bucla While\n",
      "Uite Pizza cu numarul 28 din Bucla While\n",
      "Uite Pizza cu numarul 29 din Bucla While\n",
      "Uite Pizza cu numarul 30 din Bucla While\n",
      "Uite Pizza cu numarul 31 din Bucla While\n",
      "Uite Pizza cu numarul 32 din Bucla While\n",
      "Uite Pizza cu numarul 33 din Bucla While\n",
      "Uite Pizza cu numarul 34 din Bucla While\n",
      "Uite Pizza cu numarul 35 din Bucla While\n",
      "Uite Pizza cu numarul 36 din Bucla While\n",
      "Uite Pizza cu numarul 37 din Bucla While\n",
      "Uite Pizza cu numarul 38 din Bucla While\n",
      "Uite Pizza cu numarul 39 din Bucla While\n",
      "Uite Pizza cu numarul 40 din Bucla While\n",
      "Uite Pizza cu numarul 41 din Bucla While\n",
      "Uite Pizza cu numarul 42 din Bucla While\n",
      "Uite Pizza cu numarul 43 din Bucla While\n",
      "Uite Pizza cu numarul 44 din Bucla While\n",
      "Uite Pizza cu numarul 45 din Bucla While\n",
      "Uite Pizza cu numarul 46 din Bucla While\n",
      "Uite Pizza cu numarul 47 din Bucla While\n",
      "Uite Pizza cu numarul 48 din Bucla While\n",
      "Uite Pizza cu numarul 49 din Bucla While\n",
      "Uite Pizza cu numarul 50 din Bucla While\n",
      "Uite Pizza cu numarul 51 din Bucla While\n",
      "Uite Pizza cu numarul 52 din Bucla While\n",
      "Uite Pizza cu numarul 53 din Bucla While\n",
      "Uite Pizza cu numarul 54 din Bucla While\n",
      "Uite Pizza cu numarul 55 din Bucla While\n",
      "Uite Pizza cu numarul 56 din Bucla While\n",
      "Uite Pizza cu numarul 57 din Bucla While\n",
      "Uite Pizza cu numarul 58 din Bucla While\n",
      "Uite Pizza cu numarul 59 din Bucla While\n",
      "Uite Pizza cu numarul 60 din Bucla While\n",
      "Uite Pizza cu numarul 61 din Bucla While\n",
      "Uite Pizza cu numarul 62 din Bucla While\n",
      "Uite Pizza cu numarul 63 din Bucla While\n",
      "Uite Pizza cu numarul 64 din Bucla While\n",
      "Uite Pizza cu numarul 65 din Bucla While\n",
      "Uite Pizza cu numarul 66 din Bucla While\n",
      "Uite Pizza cu numarul 67 din Bucla While\n",
      "Uite Pizza cu numarul 68 din Bucla While\n",
      "Uite Pizza cu numarul 69 din Bucla While\n",
      "Uite Pizza cu numarul 70 din Bucla While\n",
      "Uite Pizza cu numarul 71 din Bucla While\n",
      "Uite Pizza cu numarul 72 din Bucla While\n",
      "Uite Pizza cu numarul 73 din Bucla While\n",
      "Uite Pizza cu numarul 74 din Bucla While\n",
      "Uite Pizza cu numarul 75 din Bucla While\n",
      "Uite Pizza cu numarul 76 din Bucla While\n",
      "Uite Pizza cu numarul 77 din Bucla While\n",
      "Uite Pizza cu numarul 78 din Bucla While\n",
      "Uite Pizza cu numarul 79 din Bucla While\n",
      "Uite Pizza cu numarul 80 din Bucla While\n",
      "Uite Pizza cu numarul 81 din Bucla While\n",
      "Uite Pizza cu numarul 82 din Bucla While\n",
      "Uite Pizza cu numarul 83 din Bucla While\n",
      "Uite Pizza cu numarul 84 din Bucla While\n",
      "Uite Pizza cu numarul 85 din Bucla While\n",
      "Uite Pizza cu numarul 86 din Bucla While\n",
      "Uite Pizza cu numarul 87 din Bucla While\n",
      "Uite Pizza cu numarul 88 din Bucla While\n",
      "Uite Pizza cu numarul 89 din Bucla While\n",
      "Uite Pizza cu numarul 90 din Bucla While\n",
      "Uite Pizza cu numarul 91 din Bucla While\n",
      "Uite Pizza cu numarul 92 din Bucla While\n",
      "Uite Pizza cu numarul 93 din Bucla While\n",
      "Uite Pizza cu numarul 94 din Bucla While\n",
      "Uite Pizza cu numarul 95 din Bucla While\n",
      "Uite Pizza cu numarul 96 din Bucla While\n",
      "Uite Pizza cu numarul 97 din Bucla While\n",
      "Uite Pizza cu numarul 98 din Bucla While\n",
      "Uite Pizza cu numarul 99 din Bucla While\n"
     ]
    }
   ],
   "execution_count": 15
  },
  {
   "cell_type": "markdown",
   "id": "50dfd391",
   "metadata": {},
   "source": [
    "## Bucla `while`\n",
    "\n",
    "- `while` rulează atâta timp cât condiția este adevărată.\n",
    "- În exemplu, bucla se execută de 3 ori (până când `counter < 3` devine fals).\n"
   ]
  },
  {
   "cell_type": "markdown",
   "id": "8fff6651",
   "metadata": {},
   "source": [
    "## Exemple suplimentare\n",
    "\n",
    "### Variabile și if-else\n",
    "```python\n",
    "temperatura = 30\n",
    "if temperatura > 25:\n",
    "    print(\"E cald afară!\")\n",
    "else:\n",
    "    print(\"E răcoare afară!\")\n",
    "```\n",
    "\n",
    "### Bucla for\n",
    "```python\n",
    "for fruct in [\"mere\", \"pere\", \"banane\"]:\n",
    "    print(\"Îmi place să mănânc\", fruct)\n",
    "```\n",
    "\n",
    "### Bucla while\n",
    "```python\n",
    "numar = 5\n",
    "while numar > 0:\n",
    "    print(\"Număr:\", numar)\n",
    "    numar -= 1\n",
    "print(\"Stop!\")\n",
    "```\n"
   ]
  }
 ],
 "metadata": {},
 "nbformat": 4,
 "nbformat_minor": 5
}
