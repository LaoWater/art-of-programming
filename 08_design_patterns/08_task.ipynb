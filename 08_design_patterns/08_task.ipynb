{
  "nbformat": 4,
  "nbformat_minor": 5,
  "metadata": {
    "kernelspec": {
      "name": "python3",
      "display_name": "Python 3",
      "language": "python"
    },
    "language_info": {
      "name": "python",
      "version": "",
      "mimetype": "text/x-python",
      "codemirror_mode": {
        "name": "ipython",
        "version": 3
      },
      "pygments_lexer": "ipython3",
      "nbconvert_exporter": "python",
      "file_extension": ".py"
    }
  },
  "cells": [
    {
      "cell_type": "markdown",
      "metadata": {},
      "source": [
        "# Sesiunea 8 – Design Patterns în Python\n",
        "_Notebook de exerciții (fără soluții)._"
      ]
    },
    {
      "cell_type": "markdown",
      "metadata": {},
      "source": [
        "## Ex. 1 — Test **Singleton**\n",
        "- Creează o clasă `Logger` implementată ca **Singleton** (o singură instanță în tot programul).\n",
        "- Metodă minimă: `log(mesaj: str)` care afișează sau reține mesajul.\n",
        "- Creează două variabile `log1` și `log2` și demonstrează că referă **aceeași** instanță (ex.: `id(log1) == id(log2)`).\n",
        "- Nu folosi soluții externe; implementează tu mecanismul Singleton.\n"
      ]
    },
    {
      "cell_type": "code",
      "metadata": {},
      "execution_count": null,
      "outputs": [],
      "source": []
    },
    {
      "cell_type": "markdown",
      "metadata": {},
      "source": [
        "## Ex. 2 — Test **Factory**\n",
        "- Implementează o **Factory** (de ex. `ProdusFactory`) care creează obiecte diferite în funcție de un parametru `tip` (ex.: `\"telefon\"`, `\"laptop\"`).\n",
        "- Fiecare tip are o clasă cu metoda `descriere()`.\n",
        "- Apelează `ProdusFactory.creeaza_produs(\"telefon\")` și afișează descrierea.\n"
      ]
    },
    {
      "cell_type": "code",
      "metadata": {},
      "execution_count": null,
      "outputs": [],
      "source": []
    },
    {
      "cell_type": "markdown",
      "metadata": {},
      "source": [
        "## Ex. 3 — Test **Builder**\n",
        "- Creează un `LaptopBuilder` cu metode de configurare (ex.: `.cu_ram(int)`, `.cu_ssd(int)`, `.cu_gpu(str)`).\n",
        "- Metoda finală `.construieste()` întoarce un obiect `Laptop` cu o metodă `descriere()`.\n",
        "- Construiește un laptop personalizat și afișează descrierea.\n"
      ]
    },
    {
      "cell_type": "code",
      "metadata": {},
      "execution_count": null,
      "outputs": [],
      "source": []
    },
    {
      "cell_type": "markdown",
      "metadata": {},
      "source": [
        "## Ex. 4 — **Factory** + **Builder** într-un scenariu educațional\n",
        "- Creează `UtilizatorFactory` care produce tipuri de utilizatori: `Student`, `Trainer`, `Admin` (cu câmpuri de bază, ex.: `nume`).\n",
        "- Creează `CursBuilder` cu: `.cu_nume(str)`, `.cu_trainer(str)`, `.cu_pret(float)`, `.cu_nivel(str)`, `.construieste()`.\n",
        "- Folosește `UtilizatorFactory` pentru a crea un `Admin`, apoi construiește un `Curs` și afișează rezultatul.\n"
      ]
    },
    {
      "cell_type": "code",
      "metadata": {},
      "execution_count": null,
      "outputs": [],
      "source": []
    },
    {
      "cell_type": "markdown",
      "metadata": {},
      "source": [
        "## Ex. 5 — Mini-quiz recapitulativ (răspunsuri în această celulă sau în cod dacă preferi)\n",
        "1. Ce problemă rezolvă **Singleton**?\n",
        "2. **Factory** vs **Builder** — care sunt diferențele de responsabilitate?\n",
        "3. Ce metode ar trebui să aibă un **Builder** bine structurat?\n",
        "4. Când ai folosi fiecare pattern dintre cele trei și de ce?\n"
      ]
    },
    {
      "cell_type": "code",
      "metadata": {},
      "execution_count": null,
      "outputs": [],
      "source": []
    },
    {
      "cell_type": "markdown",
      "metadata": {},
      "source": [
        "## Ex. 6a — Temă: **Logger Singleton** cu fișier istoric\n",
        "- Extinde `Logger` ca **Singleton** astfel încât `log()` să scrie mesajele și în fișierul `istoric.txt`.\n",
        "- Adaugă o opțiune simplă de formatare a mesajelor (ex.: timestamp + nivel).\n"
      ]
    },
    {
      "cell_type": "code",
      "metadata": {},
      "execution_count": null,
      "outputs": [],
      "source": []
    },
    {
      "cell_type": "markdown",
      "metadata": {},
      "source": [
        "## Ex. 6b — Temă: **Factory** de animale\n",
        "- Implementează o fabrică ce poate returna obiecte `Caine`, `Pisica`, `Vaca`.\n",
        "- Fiecare clasă expune cel puțin o metodă reprezentativă (ex.: `sunet()` sau `descriere()`).\n"
      ]
    },
    {
      "cell_type": "code",
      "metadata": {},
      "execution_count": null,
      "outputs": [],
      "source": []
    },
    {
      "cell_type": "markdown",
      "metadata": {},
      "source": [
        "## Ex. 6c — Temă: **Builder** de Pizza\n",
        "- Creează un `PizzaBuilder` care permite adăugarea de toppinguri (ex.: `.cu_blat(str)`, `.cu_sos(str)`, `.adauga_topping(str)`, `.construieste()`).\n",
        "- Rezultatul `Pizza` ar trebui să poată fi afișat într-un format prietenos (ex.: `__str__()` / `descriere()`).\n"
      ]
    },
    {
      "cell_type": "code",
      "metadata": {},
      "execution_count": null,
      "outputs": [],
      "source": []
    }
  ]
}
