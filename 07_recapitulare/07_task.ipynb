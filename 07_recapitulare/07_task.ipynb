{
 "cells": [
  {
   "cell_type": "markdown",
   "id": "58160704",
   "metadata": {},
   "source": [
    "# Sesiunea 7 – Proiect OOP complet\n",
    "_Notebook de exerciții (fără soluții)._"
   ]
  },
  {
   "cell_type": "markdown",
   "id": "a1604ef8",
   "metadata": {},
   "source": [
    "## 🎯 Exercițiul 1 – Definirea clasei `Student`\n",
    "Creează o clasă `Student` care să conțină:\n",
    "- Atribute: `nume`, `email`, `note`\n",
    "- Metode: `adauga_nota()`, `media()`, `__str__()`\n",
    "\n",
    "Testează crearea unui obiect `Student` și adăugarea notelor."
   ]
  },
  {
   "cell_type": "code",
   "execution_count": null,
   "id": "89358a76",
   "metadata": {},
   "outputs": [],
   "source": []
  },
  {
   "cell_type": "markdown",
   "id": "6296e384",
   "metadata": {},
   "source": [
    "## 🧑‍🏫 Exercițiul 2 – Definirea clasei `Trainer`\n",
    "Creează o clasă `Trainer` care **moștenește** `Student` și adaugă:\n",
    "- Atribut suplimentar: `expertiza`\n",
    "- Metoda `__str__()` care returnează formatul `[Trainer] nume (expertiza)`\n",
    "\n",
    "Testează instanțierea unui `Trainer`."
   ]
  },
  {
   "cell_type": "code",
   "execution_count": null,
   "id": "abea826a",
   "metadata": {},
   "outputs": [],
   "source": []
  },
  {
   "cell_type": "markdown",
   "id": "cff1fad8",
   "metadata": {},
   "source": [
    "## 📚 Exercițiul 3 – Definirea clasei `Curs`\n",
    "Creează o clasă `Curs` care conține un `Trainer` și o listă de `Student`.\n",
    "Adaugă metodele principale:\n",
    "- `adauga_student()`\n",
    "- `sterge_student()`\n",
    "- `cauta_student()`\n",
    "- `cel_mai_bun_student()`\n",
    "- `afiseaza_studenti()`\n",
    "- `exporta_studenti()`\n",
    "- `importa_studenti()`"
   ]
  },
  {
   "cell_type": "code",
   "execution_count": null,
   "id": "f5b3feae",
   "metadata": {},
   "outputs": [],
   "source": []
  },
  {
   "cell_type": "markdown",
   "id": "b978a789",
   "metadata": {},
   "source": [
    "## 🧩 Exercițiul 4 – Crearea unui meniu interactiv (CLI)\n",
    "Construiește un meniu interactiv cu opțiunile:\n",
    "1. Adaugă student\n",
    "2. Afișează toți\n",
    "3. Caută după email\n",
    "4. Șterge student\n",
    "5. Notează student\n",
    "6. Cel mai bun student\n",
    "7. Export în fișier\n",
    "8. Încarcă din fișier\n",
    "9. Ieșire\n",
    "\n",
    "Meniul trebuie să ruleze într-un `while True` și să apeleze metodele din `Curs`."
   ]
  },
  {
   "cell_type": "code",
   "execution_count": null,
   "id": "6d5c6dbf",
   "metadata": {},
   "outputs": [],
   "source": []
  },
  {
   "cell_type": "markdown",
   "id": "9c1a591a",
   "metadata": {},
   "source": [
    "## ⚙️ Exercițiul 5 – Testare rapidă\n",
    "Scrie codul principal care:\n",
    "- Creează un obiect `Trainer`\n",
    "- Creează un obiect `Curs`\n",
    "- Pornește meniul interactiv\n",
    "\n",
    "```python\n",
    "if __name__ == \"__main__\":\n",
    "    trainer = Trainer(...)\n",
    "    curs = Curs(..., trainer)\n",
    "    meniu(curs)\n",
    "```"
   ]
  },
  {
   "cell_type": "code",
   "execution_count": null,
   "id": "0e25abc1",
   "metadata": {},
   "outputs": [],
   "source": []
  },
  {
   "cell_type": "markdown",
   "id": "0d75d244",
   "metadata": {},
   "source": [
    "## 🧠 Exercițiul 6 – Quiz Recapitulativ\n",
    "- Cum se face moștenirea în Python?\n",
    "- Ce este `__str__()`?\n",
    "- De ce folosim compunerea?\n",
    "- Cum salvezi într-un fișier CSV?\n",
    "- Cum apelezi metoda `media()`?"
   ]
  },
  {
   "cell_type": "code",
   "execution_count": null,
   "id": "a82a8d70",
   "metadata": {},
   "outputs": [],
   "source": []
  },
  {
   "cell_type": "markdown",
   "id": "0448e46c",
   "metadata": {},
   "source": [
    "## 🏠 Exercițiul 7 – Temă pentru acasă\n",
    "- Implementează ștergerea studentului după email\n",
    "- Completează meniul interactiv complet\n",
    "- Lucrează cu fișiere CSV pentru:\n",
    "  - Studenți\n",
    "  - Note\n",
    "  - Rapoarte"
   ]
  },
  {
   "cell_type": "code",
   "execution_count": null,
   "id": "3a644f41",
   "metadata": {},
   "outputs": [],
   "source": []
  }
 ],
 "metadata": {
  "kernelspec": {
   "display_name": "Python 3",
   "language": "python",
   "name": "python3"
  },
  "language_info": {
   "name": "python",
   "version": ""
  }
 },
 "nbformat": 4,
 "nbformat_minor": 5
}
