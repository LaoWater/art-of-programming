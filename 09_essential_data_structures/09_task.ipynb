{
  "cells": [
    {
      "cell_type": "markdown",
      "id": "8aaa3754",
      "metadata": {
        "tags": [
          "title"
        ]
      },
      "source": [
        "# Sesiunea 9 – Structuri de Date și Algoritmi Esențiali în Python\n",
        "_Notebook de exerciții (fără soluții)._"
      ]
    },
    {
      "cell_type": "markdown",
      "id": "df463485",
      "metadata": {
        "tags": [
          "exercitiu"
        ]
      },
      "source": [
        "## Exercițiu: Sortează o listă de tuple după vârstă\n",
        "- Ai o listă de persoane reprezentate ca tuple: `(nume: str, varsta: int)`.\n",
        "- Construiește o versiune **nouă** a listei sortată **crescător** după `varsta` folosind `sorted(key=...)`.\n",
        "- Afișează și o versiune sortată **descrescător**.\n",
        "- **Cerințe**: nu modifica lista inițială; păstrează stabilitatea la egalitate de vârstă; arată primele/ultimele 3 elemente.\n",
        "- **Exemplu de date** (poți modifica): `persoane = [(\"Ana\", 25), (\"Mihai\", 31), (\"Ioana\", 25), (\"Radu\", 19)]`."
      ]
    },
    {
      "cell_type": "code",
      "execution_count": null,
      "id": "34cc7502",
      "metadata": {},
      "outputs": [],
      "source": []
    },
    {
      "cell_type": "markdown",
      "id": "22b897b5",
      "metadata": {
        "tags": [
          "exercitiu"
        ]
      },
      "source": [
        "## Exercițiu: Căutare binară în lista de scoruri\n",
        "- Pornește de la o **listă sortată crescător** de scoruri întregi.\n",
        "- Implementează o funcție `binary_search(lista, tinta) -> int` care întoarce indexul sau `-1` dacă nu există.\n",
        "- Testează cu o țintă prezentă și una absentă.\n",
        "- **Extensie opțională**: contorizează numărul de pași/comparații efectuate.\n",
        "- **Hint**: folosește doi indici `st` și `dr` și calculează `mid = (st + dr) // 2`."
      ]
    },
    {
      "cell_type": "code",
      "execution_count": null,
      "id": "b6efafd9",
      "metadata": {},
      "outputs": [],
      "source": []
    },
    {
      "cell_type": "markdown",
      "id": "d91f507c",
      "metadata": {
        "tags": [
          "exercitiu"
        ]
      },
      "source": [
        "## Exercițiu: Sortează un dict de produse după preț\n",
        "- Ai un dicționar de produse: `{nume_produs: {\"pret\": float, \"stoc\": int}}`.\n",
        "- Produce o listă de tuple `(nume_produs, info)` ordonată **crescător** după `pret`.\n",
        "- Afișează **top 3** produse cele mai scumpe și media prețurilor.\n",
        "- **Cerințe**: nu presupune că toate cheile sunt prezente; tratează lipsa sau tipuri greșite cu valori implicite.\n",
        "- **Exemplu**: `produse = {\"mouse\": {\"pret\": 79.9, \"stoc\": 12}, \"laptop\": {\"pret\": 4999.0, \"stoc\": 3}}`."
      ]
    },
    {
      "cell_type": "code",
      "execution_count": null,
      "id": "7752a18b",
      "metadata": {},
      "outputs": [],
      "source": []
    },
    {
      "cell_type": "markdown",
      "id": "8c108865",
      "metadata": {
        "tags": [
          "exercitiu"
        ]
      },
      "source": [
        "## Exercițiu: Elimină duplicatele dintr-o listă folosind set\n",
        "- Primești o listă care poate conține duplicate.\n",
        "- Construieste o listă **nouă** cu elemente unice, **preservând ordinea** primei apariții.\n",
        "- Afișează numărul de elemente eliminate și rezultatul final.\n",
        "- **Hint**: Folosește un `set` pentru a memora ce ai văzut deja."
      ]
    },
    {
      "cell_type": "code",
      "execution_count": null,
      "id": "df07770d",
      "metadata": {},
      "outputs": [],
      "source": []
    }
  ],
  "metadata": {
    "generator": "PPTX -> IPYNB assistant",
    "kernelspec": {
      "display_name": "Python 3",
      "language": "python",
      "name": "python3"
    },
    "language_info": {
      "codemirror_mode": {
        "name": "ipython",
        "version": 3
      },
      "file_extension": ".py",
      "mimetype": "text/x-python",
      "name": "python",
      "nbconvert_exporter": "python",
      "pygments_lexer": "ipython3",
      "version": "3.x"
    },
    "orig_filename": "Sesiunea_9_Structuri_Algoritmi_Python.pptx"
  },
  "nbformat": 4,
  "nbformat_minor": 5
}
