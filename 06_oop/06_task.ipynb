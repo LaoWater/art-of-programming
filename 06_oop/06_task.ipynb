{
 "cells": [
  {
   "cell_type": "markdown",
   "metadata": {},
   "source": [
    "# Sesiunea 6 – Programarea Orientată pe Obiecte (OOP)\n",
    "_Notebook de exerciții (fără soluții)._"
   ]
  },
  {
   "cell_type": "markdown",
   "metadata": {},
   "source": [
    "### Exercițiul 1 — Moștenire (Profesor / Persoană)\n",
    "Creează o clasă `Persoana` cu atributul `nume` și o metodă `vorbeste()`.\n",
    "Creează o clasă `Profesor` care moștenește `Persoana` și adaugă metoda `preda()`."
   ]
  },
  {
   "cell_type": "code",
   "execution_count": null,
   "metadata": {},
   "outputs": [],
   "source": []
  },
  {
   "cell_type": "markdown",
   "metadata": {},
   "source": [
    "### Exercițiul 2 — Carte și Biblioteca (CRUD)\n",
    "Creează o clasă `Carte` cu atributele `titlu`, `autor`, `an`.\n",
    "Creează o clasă `Biblioteca` care conține o listă de cărți și metodele:\n",
    "- `adauga_carte()`\n",
    "- `sterge_carte()`\n",
    "- `cauta_dupa_autor()`\n",
    "- `afiseaza_toate()`"
   ]
  },
  {
   "cell_type": "code",
   "execution_count": null,
   "metadata": {},
   "outputs": [],
   "source": []
  },
  {
   "cell_type": "markdown",
   "metadata": {},
   "source": [
    "### Exercițiul 3 — Produs și CosDeCumparaturi (totalizare)\n",
    "Creează o clasă `Produs` cu `nume` și `pret`.\n",
    "Creează o clasă `CosDeCumparaturi` care gestionează o listă de produse și are metode pentru adăugare, ștergere și calculul totalului."
   ]
  },
  {
   "cell_type": "code",
   "execution_count": null,
   "metadata": {},
   "outputs": [],
   "source": []
  },
  {
   "cell_type": "markdown",
   "metadata": {},
   "source": [
    "### Exercițiul 4 — Film cu metode speciale\n",
    "Creează o clasă `Film` cu atributele `titlu`, `an`, `regizor`.\n",
    "Suprascrie metodele `__str__` (pentru afișare frumoasă) și `__eq__` (pentru compararea a două filme după titlu și an)."
   ]
  },
  {
   "cell_type": "code",
   "execution_count": null,
   "metadata": {},
   "outputs": [],
   "source": []
  },
  {
   "cell_type": "markdown",
   "metadata": {},
   "source": [
    "### Exercițiul 5 — Temă pentru acasă (Bibliotecă completă)\n",
    "Creează:\n",
    "- Clasa `Carte` (titlu, autor, an)\n",
    "- Clasa `Biblioteca` cu metode:\n",
    "  - `adauga_carte()`\n",
    "  - `cauta_dupa_autor()`\n",
    "  - `afiseaza_toate()`"
   ]
  },
  {
   "cell_type": "code",
   "execution_count": null,
   "metadata": {},
   "outputs": [],
   "source": []
  }
 ],
 "metadata": {
  "kernelspec": {
   "display_name": "Python 3",
   "language": "python",
   "name": "python3"
  },
  "language_info": {
   "name": "python",
   "version": "3.x"
  }
 },
 "nbformat": 4,
 "nbformat_minor": 5
}
