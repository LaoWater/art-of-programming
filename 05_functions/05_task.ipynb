{
 "cells": [
  {
   "cell_type": "markdown",
   "id": "4e77c847",
   "metadata": {},
   "source": [
    "# Sesiunea 5 – Funcțiile: Super-puterea din Python\n",
    "_Notebook de exerciții (fără soluții)._"
   ]
  },
  {
   "cell_type": "markdown",
   "id": "f673a93c",
   "metadata": {},
   "source": [
    "### Exercițiu 1\n",
    "Scrie o funcție simplă care afișează un mesaj de salut pe ecran.\n",
    "\n",
    "```python\n",
    "# Definim funcția\n",
    "# Apelăm funcția\n",
    "```"
   ]
  },
  {
   "cell_type": "code",
   "execution_count": null,
   "id": "066cf431",
   "metadata": {},
   "outputs": [],
   "source": []
  },
  {
   "cell_type": "markdown",
   "id": "34c318f0",
   "metadata": {},
   "source": [
    "### Exercițiu 2\n",
    "Creează o funcție care primește un nume ca parametru și afișează un mesaj personalizat de salut.\n",
    "\n",
    "```python\n",
    "# Definim funcția cu parametru\n",
    "# Apelăm funcția cu diferite valori\n",
    "```"
   ]
  },
  {
   "cell_type": "code",
   "execution_count": null,
   "id": "31e90795",
   "metadata": {},
   "outputs": [],
   "source": []
  },
  {
   "cell_type": "markdown",
   "id": "b69bc773",
   "metadata": {},
   "source": [
    "### Exercițiu 3\n",
    "Creează o funcție care calculează salariul net pe baza salariului brut și a procentului de taxe.\n",
    "\n",
    "```python\n",
    "# Definim funcția cu parametri (brut, taxe)\n",
    "# Returnăm salariul net\n",
    "```"
   ]
  },
  {
   "cell_type": "code",
   "execution_count": null,
   "id": "f751b59c",
   "metadata": {},
   "outputs": [],
   "source": []
  },
  {
   "cell_type": "markdown",
   "id": "b2fab76f",
   "metadata": {},
   "source": [
    "### Exercițiu 4\n",
    "Scrie o funcție care primește o listă de note și returnează media lor.\n",
    "\n",
    "```python\n",
    "# Definim funcția care calculează media\n",
    "# Returnăm valoarea calculată\n",
    "```"
   ]
  },
  {
   "cell_type": "code",
   "execution_count": null,
   "id": "0d392125",
   "metadata": {},
   "outputs": [],
   "source": []
  },
  {
   "cell_type": "markdown",
   "id": "14bc589e",
   "metadata": {},
   "source": [
    "### Exercițiu 5\n",
    "Scrie o funcție care primește vârsta unei persoane și returnează 'Major' sau 'Minor'.\n",
    "\n",
    "```python\n",
    "# Definim funcția care verifică vârsta\n",
    "# Returnăm rezultatul corespunzător\n",
    "```"
   ]
  },
  {
   "cell_type": "code",
   "execution_count": null,
   "id": "ea5f1ee4",
   "metadata": {},
   "outputs": [],
   "source": []
  },
  {
   "cell_type": "markdown",
   "id": "5da2f997",
   "metadata": {},
   "source": [
    "### Exercițiu 6\n",
    "Scrie o funcție care primește un număr variabil de argumente (*args) și returnează media lor.\n",
    "\n",
    "```python\n",
    "# Definim funcția cu *args\n",
    "# Calculăm și returnăm media\n",
    "```"
   ]
  },
  {
   "cell_type": "code",
   "execution_count": null,
   "id": "a1da9121",
   "metadata": {},
   "outputs": [],
   "source": []
  },
  {
   "cell_type": "markdown",
   "id": "8567c16a",
   "metadata": {},
   "source": [
    "### Exercițiu 7\n",
    "Scrie o funcție care primește produse cu prețuri (**kwargs) și returnează produsul cel mai scump.\n",
    "\n",
    "```python\n",
    "# Definim funcția cu **kwargs\n",
    "# Găsim și returnăm produsul cu preț maxim\n",
    "```"
   ]
  },
  {
   "cell_type": "code",
   "execution_count": null,
   "id": "1e39590f",
   "metadata": {},
   "outputs": [],
   "source": []
  },
  {
   "cell_type": "markdown",
   "id": "4b2099a4",
   "metadata": {},
   "source": [
    "### Exercițiu 8\n",
    "Creează un mic sistem de gestiune a salariaților folosind funcții:\n",
    "- Funcție pentru adăugare salariat\n",
    "- Funcție pentru afișare salariați\n",
    "- Funcție pentru calcul total salarii\n",
    "\n",
    "```python\n",
    "# Structura de date: listă de dicționare\n",
    "# Definim funcțiile cerute\n",
    "```"
   ]
  },
  {
   "cell_type": "code",
   "execution_count": null,
   "id": "2e69868c",
   "metadata": {},
   "outputs": [],
   "source": []
  },
  {
   "cell_type": "markdown",
   "id": "7df1dfcd",
   "metadata": {},
   "source": [
    "### Exercițiu 9\n",
    "Creează o funcție `finalizeaza_comanda()` care apelează două alte funcții: `coace_painea()` și `calculeaza_pret()`.\n",
    "\n",
    "```python\n",
    "# Definim funcțiile individuale\n",
    "# Definim funcția principală care le apelează\n",
    "```"
   ]
  },
  {
   "cell_type": "code",
   "execution_count": null,
   "id": "17d100b9",
   "metadata": {},
   "outputs": [],
   "source": []
  },
  {
   "cell_type": "markdown",
   "id": "287f0000",
   "metadata": {},
   "source": [
    "### Exercițiu 10\n",
    "Folosește o funcție `lambda` pentru a sorta o listă de numere descrescător.\n",
    "\n",
    "```python\n",
    "# Definim lista\n",
    "# Sortăm cu lambda\n",
    "```"
   ]
  },
  {
   "cell_type": "code",
   "execution_count": null,
   "id": "2f99b553",
   "metadata": {},
   "outputs": [],
   "source": []
  },
  {
   "cell_type": "markdown",
   "id": "927bf5f0",
   "metadata": {},
   "source": [
    "### Exercițiu 11\n",
    "Folosește `map()` și o funcție `lambda` pentru a ridica la pătrat fiecare număr dintr-o listă.\n",
    "\n",
    "```python\n",
    "# Definim lista\n",
    "# Aplicăm map cu lambda\n",
    "```"
   ]
  },
  {
   "cell_type": "code",
   "execution_count": null,
   "id": "86a757b2",
   "metadata": {},
   "outputs": [],
   "source": []
  },
  {
   "cell_type": "markdown",
   "id": "6cdf8ae0",
   "metadata": {},
   "source": [
    "### Exercițiu 12\n",
    "Folosește `filter()` și o funcție `lambda` pentru a extrage numerele pare dintr-o listă.\n",
    "\n",
    "```python\n",
    "# Definim lista\n",
    "# Aplicăm filter cu lambda\n",
    "```"
   ]
  },
  {
   "cell_type": "code",
   "execution_count": null,
   "id": "e267d2e7",
   "metadata": {},
   "outputs": [],
   "source": []
  },
  {
   "cell_type": "markdown",
   "id": "a2edd886",
   "metadata": {},
   "source": [
    "### Exercițiu 13\n",
    "Adaugă un docstring la o funcție `calculeaza_salariu(brut, taxe)` care explică scopul funcției.\n",
    "\n",
    "```python\n",
    "# Definim funcția cu docstring\n",
    "```"
   ]
  },
  {
   "cell_type": "code",
   "execution_count": null,
   "id": "b40cce86",
   "metadata": {},
   "outputs": [],
   "source": []
  },
  {
   "cell_type": "markdown",
   "id": "82c54b45",
   "metadata": {},
   "source": [
    "### Exercițiu 14\n",
    "Creează un mic sistem de gestiune elevi folosind funcții:\n",
    "- Funcție pentru adăugare elev\n",
    "- Funcție pentru afișare elevi\n",
    "- Funcție pentru calcul medie generală\n",
    "- Funcție pentru afișare elevi peste medie\n",
    "\n",
    "```python\n",
    "# Structura de date: listă de dicționare\n",
    "# Definim funcțiile cerute\n",
    "```"
   ]
  },
  {
   "cell_type": "code",
   "execution_count": null,
   "id": "b8c9822b",
   "metadata": {},
   "outputs": [],
   "source": []
  },
  {
   "cell_type": "markdown",
   "id": "02bcc0e2",
   "metadata": {},
   "source": [
    "### Mini-Proiect\n",
    "Creează un sistem simplu pentru o cafenea:\n",
    "- Funcție pentru adăugare client (nume, cafea, vizite)\n",
    "- Funcție pentru afișare clienți\n",
    "- Funcție care oferă o reducere pentru clienții cu mai mult de 20 vizite\n",
    "\n",
    "```python\n",
    "# Structura de date: listă de dicționare\n",
    "# Definim funcțiile cerute\n",
    "```"
   ]
  },
  {
   "cell_type": "code",
   "execution_count": null,
   "id": "0e83036c",
   "metadata": {},
   "outputs": [],
   "source": []
  },
  {
   "cell_type": "markdown",
   "id": "06d0ed6e",
   "metadata": {},
   "source": [
    "### Temă pentru acasă\n",
    "1. Creează funcții pentru operații matematice simple (+, -, *, /).\n",
    "2. Creează o funcție care generează un email personalizat pentru un utilizator.\n",
    "3. Creează o funcție care calculează media clasei pe baza unui dicționar {elev: note}.\n",
    "4. Creează o funcție care gestionează angajați: salariu mediu, afișare peste medie.\n",
    "5. Creează funcții pentru analiză text: număr de cuvinte, cel mai lung cuvânt, verifică dacă apare 'python'.\n",
    "6. Creează o funcție pentru coș de cumpărături: calculează totalul, TVA și afișează bonul fiscal.\n",
    "\n",
    "```python\n",
    "# Definim funcțiile cerute\n",
    "```"
   ]
  },
  {
   "cell_type": "code",
   "execution_count": null,
   "id": "223f1731",
   "metadata": {},
   "outputs": [],
   "source": []
  }
 ],
 "metadata": {
  "kernelspec": {
   "display_name": "Python 3",
   "language": "python",
   "name": "python3"
  },
  "language_info": {
   "name": "python",
   "version": "3.x"
  }
 },
 "nbformat": 4,
 "nbformat_minor": 5
}